{
 "cells": [
  {
   "cell_type": "code",
   "execution_count": 1,
   "metadata": {},
   "outputs": [],
   "source": [
    "import numpy as np\n",
    "import matplotlib.pyplot as plt"
   ]
  },
  {
   "cell_type": "code",
   "execution_count": 2,
   "metadata": {},
   "outputs": [
    {
     "data": {
      "text/plain": [
       "array([50,  4, 33, 22, 81, 19, 72, 72, 60, 46, 58, 71, 67, 16, 44, 98, 43,\n",
       "       62, 85, 34, 93, 79, 61, 75,  9, 10, 36, 69, 66, 75, 80, 51, 30, 24,\n",
       "       48, 87, 52, 13,  7, 74, 75, 71, 89, 26, 20, 95, 44, 23, 33, 32,  9,\n",
       "       61, 22,  8, 46, 55, 76, 63, 79, 10, 31, 72,  3, 71, 34, 45, 97, 38,\n",
       "       64, 34, 23, 93, 58, 85, 23, 25, 70, 47, 34, 95,  0, 21, 15, 13,  8,\n",
       "       69, 53, 97, 30, 93, 50, 74, 22, 49, 91, 53, 90, 73, 58,  2])"
      ]
     },
     "execution_count": 2,
     "metadata": {},
     "output_type": "execute_result"
    }
   ],
   "source": [
    "random_data = np.random.randint(0,100,size= 100)\n",
    "random_data"
   ]
  },
  {
   "cell_type": "code",
   "execution_count": 3,
   "metadata": {},
   "outputs": [],
   "source": [
    "max_std = (random_data - np.min(random_data))/ (np.max(random_data) - np.min(random_data))"
   ]
  },
  {
   "cell_type": "code",
   "execution_count": 4,
   "metadata": {},
   "outputs": [
    {
     "data": {
      "text/plain": [
       "array([0.51020408, 0.04081633, 0.33673469, 0.2244898 , 0.82653061,\n",
       "       0.19387755, 0.73469388, 0.73469388, 0.6122449 , 0.46938776,\n",
       "       0.59183673, 0.7244898 , 0.68367347, 0.16326531, 0.44897959,\n",
       "       1.        , 0.43877551, 0.63265306, 0.86734694, 0.34693878,\n",
       "       0.94897959, 0.80612245, 0.62244898, 0.76530612, 0.09183673,\n",
       "       0.10204082, 0.36734694, 0.70408163, 0.67346939, 0.76530612,\n",
       "       0.81632653, 0.52040816, 0.30612245, 0.24489796, 0.48979592,\n",
       "       0.8877551 , 0.53061224, 0.13265306, 0.07142857, 0.75510204,\n",
       "       0.76530612, 0.7244898 , 0.90816327, 0.26530612, 0.20408163,\n",
       "       0.96938776, 0.44897959, 0.23469388, 0.33673469, 0.32653061,\n",
       "       0.09183673, 0.62244898, 0.2244898 , 0.08163265, 0.46938776,\n",
       "       0.56122449, 0.7755102 , 0.64285714, 0.80612245, 0.10204082,\n",
       "       0.31632653, 0.73469388, 0.03061224, 0.7244898 , 0.34693878,\n",
       "       0.45918367, 0.98979592, 0.3877551 , 0.65306122, 0.34693878,\n",
       "       0.23469388, 0.94897959, 0.59183673, 0.86734694, 0.23469388,\n",
       "       0.25510204, 0.71428571, 0.47959184, 0.34693878, 0.96938776,\n",
       "       0.        , 0.21428571, 0.15306122, 0.13265306, 0.08163265,\n",
       "       0.70408163, 0.54081633, 0.98979592, 0.30612245, 0.94897959,\n",
       "       0.51020408, 0.75510204, 0.2244898 , 0.5       , 0.92857143,\n",
       "       0.54081633, 0.91836735, 0.74489796, 0.59183673, 0.02040816])"
      ]
     },
     "execution_count": 4,
     "metadata": {},
     "output_type": "execute_result"
    }
   ],
   "source": [
    "max_std"
   ]
  },
  {
   "cell_type": "code",
   "execution_count": 11,
   "metadata": {},
   "outputs": [],
   "source": [
    "random_data2 = np.random.randint(0,100,size= [50,2])\n",
    "random_data2 = np.array(random_data2,dtype=float)"
   ]
  },
  {
   "cell_type": "code",
   "execution_count": 12,
   "metadata": {},
   "outputs": [],
   "source": [
    "random_data2[:,0] = (random_data2[:,0] - np.min(random_data2[:,0])) / (np.max(random_data2[:,0]) - np.min(random_data2[:,0]))\n",
    "random_data2[:,1] = (random_data2[:,1] - np.min(random_data2[:,1])) / (np.max(random_data2[:,1]) - np.min(random_data2[:,1]))"
   ]
  },
  {
   "cell_type": "code",
   "execution_count": 13,
   "metadata": {},
   "outputs": [
    {
     "data": {
      "text/plain": [
       "<matplotlib.collections.PathCollection at 0xbc17372c50>"
      ]
     },
     "execution_count": 13,
     "metadata": {},
     "output_type": "execute_result"
    },
    {
     "data": {
      "image/png": "[encoded data removed]",
      "text/plain": [
       "<Figure size 432x288 with 1 Axes>"
      ]
     },
     "metadata": {},
     "output_type": "display_data"
    }
   ],
   "source": [
    "plt.scatter(random_data2[:,0],random_data2[:,1])"
   ]
  },
  {
   "cell_type": "code",
   "execution_count": 16,
   "metadata": {},
   "outputs": [],
   "source": [
    "random_data2[:,0] = (random_data2[:,0] - np.mean(random_data2[:,0])) / np.std(random_data2[:,0])\n",
    "random_data2[:,1] = (random_data2[:,1] - np.mean(random_data2[:,1])) / np.std(random_data2[:,1])"
   ]
  },
  {
   "cell_type": "code",
   "execution_count": 17,
   "metadata": {},
   "outputs": [
    {
     "data": {
      "text/plain": [
       "<matplotlib.collections.PathCollection at 0xbc173b3f60>"
      ]
     },
     "execution_count": 17,
     "metadata": {},
     "output_type": "execute_result"
    },
    {
     "data": {
      "image/png": "[encoded data removed]",
      "text/plain": [
       "<Figure size 432x288 with 1 Axes>"
      ]
     },
     "metadata": {},
     "output_type": "display_data"
    }
   ],
   "source": [
    "plt.scatter(random_data2[:,0],random_data2[:,1])"
   ]
  },
  {
   "cell_type": "code",
   "execution_count": 19,
   "metadata": {},
   "outputs": [
    {
     "data": {
      "text/plain": [
       "(1.0, 5.329070518200751e-17)"
      ]
     },
     "execution_count": 19,
     "metadata": {},
     "output_type": "execute_result"
    }
   ],
   "source": [
    "np.std(random_data2[:,1]),np.mean(random_data2[:,1])"
   ]
  },
  {
   "cell_type": "code",
   "execution_count": 20,
   "metadata": {},
   "outputs": [],
   "source": [
    "from sklearn import datasets\n",
    "from sklearn.neighbors import KNeighborsClassifier\n",
    "from sklearn.model_selection import train_test_split\n",
    "from sklearn.preprocessing import StandardScaler"
   ]
  },
  {
   "cell_type": "code",
   "execution_count": 21,
   "metadata": {},
   "outputs": [],
   "source": [
    "iris = datasets.load_iris()\n",
    "X = iris.data\n",
    "y = iris.target\n",
    "\n",
    "X_train,X_test,y_train,y_test = train_test_split(X,y)"
   ]
  },
  {
   "cell_type": "code",
   "execution_count": 24,
   "metadata": {},
   "outputs": [],
   "source": [
    "std_sca = StandardScaler()"
   ]
  },
  {
   "cell_type": "code",
   "execution_count": 25,
   "metadata": {},
   "outputs": [
    {
     "data": {
      "text/plain": [
       "StandardScaler(copy=True, with_mean=True, with_std=True)"
      ]
     },
     "execution_count": 25,
     "metadata": {},
     "output_type": "execute_result"
    }
   ],
   "source": [
    "std_sca.fit(X_train)"
   ]
  },
  {
   "cell_type": "code",
   "execution_count": 27,
   "metadata": {},
   "outputs": [],
   "source": [
    "X_train_std = std_sca.transform(X_train)\n",
    "X_test_std = std_sca.transform(X_test)"
   ]
  },
  {
   "cell_type": "code",
   "execution_count": 28,
   "metadata": {},
   "outputs": [],
   "source": [
    "knn_clf = KNeighborsClassifier(4)"
   ]
  },
  {
   "cell_type": "code",
   "execution_count": 30,
   "metadata": {},
   "outputs": [
    {
     "data": {
      "text/plain": [
       "0.9473684210526315"
      ]
     },
     "execution_count": 30,
     "metadata": {},
     "output_type": "execute_result"
    }
   ],
   "source": [
    "knn_clf.fit(X_train_std,y_train)\n",
    "knn_clf.score(X_test_std,y_test)"
   ]
  },
  {
   "cell_type": "code",
   "execution_count": null,
   "metadata": {},
   "outputs": [],
   "source": []
  }
 ],
 "metadata": {
  "kernelspec": {
   "display_name": "Python 3",
   "language": "python",
   "name": "python3"
  },
  "language_info": {
   "codemirror_mode": {
    "name": "ipython",
    "version": 3
   },
   "file_extension": ".py",
   "mimetype": "text/x-python",
   "name": "python",
   "nbconvert_exporter": "python",
   "pygments_lexer": "ipython3",
   "version": "3.5.6"
  }
 },
 "nbformat": 4,
 "nbformat_minor": 2
}
