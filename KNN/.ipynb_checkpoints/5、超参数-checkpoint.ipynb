{
 "cells": [
  {
   "cell_type": "code",
   "execution_count": 2,
   "metadata": {},
   "outputs": [],
   "source": [
    "import numpy as np\n",
    "from sklearn import datasets\n",
    "import matplotlib.pyplot as plt\n",
    "from sklearn.model_selection import train_test_split\n",
    "from sklearn.neighbors import KNeighborsClassifier"
   ]
  },
  {
   "cell_type": "code",
   "execution_count": 3,
   "metadata": {},
   "outputs": [],
   "source": [
    "iris = datasets.load_iris()\n",
    "X = iris.data\n",
    "y = iris.target\n",
    "X_train,X_test,y_train,y_test = train_test_split(X,y)"
   ]
  },
  {
   "cell_type": "code",
   "execution_count": 4,
   "metadata": {},
   "outputs": [
    {
     "data": {
      "text/plain": [
       "array([[4.4, 2.9, 1.4, 0.2],\n",
       "       [5.5, 2.4, 3.7, 1. ],\n",
       "       [6.7, 3.1, 5.6, 2.4],\n",
       "       [7.2, 3.2, 6. , 1.8],\n",
       "       [6.7, 3.1, 4.4, 1.4],\n",
       "       [4.3, 3. , 1.1, 0.1],\n",
       "       [7.3, 2.9, 6.3, 1.8],\n",
       "       [6. , 3.4, 4.5, 1.6],\n",
       "       [6.7, 2.5, 5.8, 1.8],\n",
       "       [6.1, 2.6, 5.6, 1.4],\n",
       "       [4.9, 3.6, 1.4, 0.1],\n",
       "       [5.1, 3.5, 1.4, 0.3],\n",
       "       [6. , 2.2, 5. , 1.5],\n",
       "       [5.5, 3.5, 1.3, 0.2],\n",
       "       [5. , 3.5, 1.3, 0.3],\n",
       "       [5. , 3.5, 1.6, 0.6],\n",
       "       [6.5, 2.8, 4.6, 1.5],\n",
       "       [4.6, 3.1, 1.5, 0.2],\n",
       "       [6.8, 3.2, 5.9, 2.3],\n",
       "       [7.1, 3. , 5.9, 2.1],\n",
       "       [6.3, 2.8, 5.1, 1.5],\n",
       "       [6.3, 2.7, 4.9, 1.8],\n",
       "       [5.4, 3.9, 1.3, 0.4],\n",
       "       [4.8, 3.4, 1.9, 0.2],\n",
       "       [5.1, 3.8, 1.6, 0.2],\n",
       "       [6.4, 2.8, 5.6, 2.1],\n",
       "       [5.1, 3.7, 1.5, 0.4],\n",
       "       [5.7, 3. , 4.2, 1.2],\n",
       "       [6.4, 2.9, 4.3, 1.3],\n",
       "       [5.4, 3.4, 1.7, 0.2],\n",
       "       [6.9, 3.1, 5.1, 2.3],\n",
       "       [4.9, 3.1, 1.5, 0.1],\n",
       "       [6.7, 3. , 5. , 1.7],\n",
       "       [5.1, 3.8, 1.5, 0.3],\n",
       "       [5.8, 2.7, 4.1, 1. ],\n",
       "       [5.1, 3.8, 1.9, 0.4],\n",
       "       [6.3, 2.3, 4.4, 1.3],\n",
       "       [5. , 3.6, 1.4, 0.2],\n",
       "       [5.6, 2.5, 3.9, 1.1],\n",
       "       [5.3, 3.7, 1.5, 0.2],\n",
       "       [6.7, 3.3, 5.7, 2.1],\n",
       "       [5.7, 2.8, 4.1, 1.3],\n",
       "       [5.4, 3.9, 1.7, 0.4],\n",
       "       [5.5, 2.4, 3.8, 1.1],\n",
       "       [6.3, 2.9, 5.6, 1.8],\n",
       "       [7. , 3.2, 4.7, 1.4],\n",
       "       [5.6, 3. , 4.1, 1.3],\n",
       "       [5.6, 2.8, 4.9, 2. ],\n",
       "       [4.8, 3. , 1.4, 0.1],\n",
       "       [4.8, 3.1, 1.6, 0.2],\n",
       "       [5.5, 2.3, 4. , 1.3],\n",
       "       [6.7, 3.1, 4.7, 1.5],\n",
       "       [6.7, 3. , 5.2, 2.3],\n",
       "       [6.2, 2.8, 4.8, 1.8],\n",
       "       [6.4, 2.7, 5.3, 1.9],\n",
       "       [5. , 3.4, 1.6, 0.4],\n",
       "       [6.6, 2.9, 4.6, 1.3],\n",
       "       [6.4, 2.8, 5.6, 2.2],\n",
       "       [5.9, 3. , 5.1, 1.8],\n",
       "       [5.5, 4.2, 1.4, 0.2],\n",
       "       [6.8, 2.8, 4.8, 1.4],\n",
       "       [6.1, 3. , 4.6, 1.4],\n",
       "       [7.4, 2.8, 6.1, 1.9],\n",
       "       [5.7, 2.6, 3.5, 1. ],\n",
       "       [4.6, 3.4, 1.4, 0.3],\n",
       "       [6. , 2.9, 4.5, 1.5],\n",
       "       [5. , 2.3, 3.3, 1. ],\n",
       "       [7.9, 3.8, 6.4, 2. ],\n",
       "       [6.1, 2.9, 4.7, 1.4],\n",
       "       [5.4, 3.4, 1.5, 0.4],\n",
       "       [6.2, 2.2, 4.5, 1.5],\n",
       "       [6.8, 3. , 5.5, 2.1],\n",
       "       [6.4, 3.2, 5.3, 2.3],\n",
       "       [5. , 3. , 1.6, 0.2],\n",
       "       [6.7, 3.3, 5.7, 2.5],\n",
       "       [4.8, 3. , 1.4, 0.3],\n",
       "       [6. , 3. , 4.8, 1.8],\n",
       "       [5.4, 3. , 4.5, 1.5],\n",
       "       [6.3, 3.3, 6. , 2.5],\n",
       "       [5.8, 2.7, 5.1, 1.9],\n",
       "       [5. , 3.3, 1.4, 0.2],\n",
       "       [6.3, 3.3, 4.7, 1.6],\n",
       "       [5.7, 4.4, 1.5, 0.4],\n",
       "       [5.4, 3.7, 1.5, 0.2],\n",
       "       [5.8, 2.8, 5.1, 2.4],\n",
       "       [6.2, 2.9, 4.3, 1.3],\n",
       "       [4.9, 3.1, 1.5, 0.2],\n",
       "       [4.7, 3.2, 1.6, 0.2],\n",
       "       [5.6, 2.7, 4.2, 1.3],\n",
       "       [6.9, 3.2, 5.7, 2.3],\n",
       "       [4.5, 2.3, 1.3, 0.3],\n",
       "       [6.3, 3.4, 5.6, 2.4],\n",
       "       [5.8, 2.7, 5.1, 1.9],\n",
       "       [7.6, 3. , 6.6, 2.1],\n",
       "       [6.5, 3. , 5.2, 2. ],\n",
       "       [6.5, 3.2, 5.1, 2. ],\n",
       "       [6.1, 2.8, 4.7, 1.2],\n",
       "       [5.7, 2.9, 4.2, 1.3],\n",
       "       [7.7, 2.6, 6.9, 2.3],\n",
       "       [4.6, 3.6, 1. , 0.2],\n",
       "       [6.1, 2.8, 4. , 1.3],\n",
       "       [6. , 2.7, 5.1, 1.6],\n",
       "       [5. , 3.2, 1.2, 0.2],\n",
       "       [5. , 3.4, 1.5, 0.2],\n",
       "       [5. , 2. , 3.5, 1. ],\n",
       "       [5.2, 4.1, 1.5, 0.1],\n",
       "       [6. , 2.2, 4. , 1. ],\n",
       "       [4.7, 3.2, 1.3, 0.2],\n",
       "       [5.5, 2.6, 4.4, 1.2],\n",
       "       [5.9, 3.2, 4.8, 1.8],\n",
       "       [5.1, 3.5, 1.4, 0.2],\n",
       "       [7.2, 3. , 5.8, 1.6]])"
      ]
     },
     "execution_count": 4,
     "metadata": {},
     "output_type": "execute_result"
    }
   ],
   "source": [
    "X_train"
   ]
  },
  {
   "cell_type": "code",
   "execution_count": 8,
   "metadata": {},
   "outputs": [
    {
     "data": {
      "text/plain": [
       "<matplotlib.collections.PathCollection at 0x951603ca58>"
      ]
     },
     "execution_count": 8,
     "metadata": {},
     "output_type": "execute_result"
    },
    {
     "data": {
      "image/png": "[encoded data removed]",
      "text/plain": [
       "<Figure size 432x288 with 1 Axes>"
      ]
     },
     "metadata": {},
     "output_type": "display_data"
    }
   ],
   "source": [
    "plt.scatter(X_train[y_train == 0,0],X_train[y_train == 0,1],color = \"red\")\n",
    "plt.scatter(X_train[y_train == 1,0],X_train[y_train == 1,1],color = \"green\")\n",
    "plt.scatter(X_train[y_train == 2,0],X_train[y_train == 2,1],color =\"blue\")"
   ]
  },
  {
   "cell_type": "code",
   "execution_count": 9,
   "metadata": {},
   "outputs": [
    {
     "data": {
      "text/plain": [
       "0.9736842105263158"
      ]
     },
     "execution_count": 9,
     "metadata": {},
     "output_type": "execute_result"
    }
   ],
   "source": [
    "from sklearn.preprocessing import StandardScaler\n",
    "std_scler = StandardScaler()\n",
    "std_scler.fit(X_train)\n",
    "X_train_std = std_scler.transform(X_train)\n",
    "X_test_std = std_scler.transform(X_test)\n",
    "knn_clf = KNeighborsClassifier(6)\n",
    "knn_clf.fit(X_train_std,y_train)\n",
    "knn_clf.score(X_test_std,y_test)"
   ]
  },
  {
   "cell_type": "code",
   "execution_count": 11,
   "metadata": {},
   "outputs": [
    {
     "data": {
      "text/plain": [
       "(2, 0.9736842105263158)"
      ]
     },
     "execution_count": 11,
     "metadata": {},
     "output_type": "execute_result"
    }
   ],
   "source": [
    "best_k = 0\n",
    "best_score = 0\n",
    "\n",
    "K = 10\n",
    "\n",
    "for k in range(K):\n",
    "    knn_clf = KNeighborsClassifier(k+1)\n",
    "    knn_clf.fit(X_train_std,y_train)\n",
    "    score = knn_clf.score(X_test_std,y_test)\n",
    "    if score >   best_score:\n",
    "        best_score = score\n",
    "        best_k = k + 1\n",
    "        \n",
    "best_k,best_score"
   ]
  },
  {
   "cell_type": "code",
   "execution_count": 14,
   "metadata": {},
   "outputs": [
    {
     "data": {
      "text/plain": [
       "(2, 0.9736842105263158, 'uniform')"
      ]
     },
     "execution_count": 14,
     "metadata": {},
     "output_type": "execute_result"
    }
   ],
   "source": [
    "best_k = 0\n",
    "best_score = 0\n",
    "best_method = ''\n",
    "for method in ['uniform','distance']:\n",
    "    for k in range(K):\n",
    "        knn_clf = KNeighborsClassifier(k+1)\n",
    "        knn_clf.fit(X_train_std,y_train)\n",
    "        score = knn_clf.score(X_test_std,y_test)\n",
    "        if score > best_score:\n",
    "            best_score = score\n",
    "            best_k = k + 1\n",
    "            best_method = method\n",
    "            \n",
    "best_k,best_score,best_method"
   ]
  },
  {
   "cell_type": "code",
   "execution_count": 16,
   "metadata": {},
   "outputs": [],
   "source": [
    "from sklearn.model_selection import GridSearchCV"
   ]
  },
  {
   "cell_type": "code",
   "execution_count": 20,
   "metadata": {},
   "outputs": [],
   "source": [
    "param_grid = [\n",
    "    {\n",
    "        'weights' : ['uniform','distance'],\n",
    "        'n_neighbors':[i for i in range(1,11)]\n",
    "    }\n",
    "]\n",
    "knn_clf = KNeighborsClassifier()\n",
    "search = GridSearchCV(knn_clf,param_grid= param_grid)"
   ]
  },
  {
   "cell_type": "code",
   "execution_count": 21,
   "metadata": {},
   "outputs": [
    {
     "name": "stderr",
     "output_type": "stream",
     "text": [
      "D:\\Program files\\anaconda\\envs\\tensorflow\\lib\\site-packages\\sklearn\\model_selection\\_split.py:1943: FutureWarning: You should specify a value for 'cv' instead of relying on the default value. The default value will change from 3 to 5 in version 0.22.\n",
      "  warnings.warn(CV_WARNING, FutureWarning)\n"
     ]
    },
    {
     "data": {
      "text/plain": [
       "GridSearchCV(cv='warn', error_score='raise-deprecating',\n",
       "       estimator=KNeighborsClassifier(algorithm='auto', leaf_size=30, metric='minkowski',\n",
       "           metric_params=None, n_jobs=None, n_neighbors=5, p=2,\n",
       "           weights='uniform'),\n",
       "       fit_params=None, iid='warn', n_jobs=None,\n",
       "       param_grid=[{'weights': ['uniform', 'distance'], 'n_neighbors': [1, 2, 3, 4, 5, 6, 7, 8, 9, 10]}],\n",
       "       pre_dispatch='2*n_jobs', refit=True, return_train_score='warn',\n",
       "       scoring=None, verbose=0)"
      ]
     },
     "execution_count": 21,
     "metadata": {},
     "output_type": "execute_result"
    }
   ],
   "source": [
    "\n",
    "search.fit(X_train_std,y_train)"
   ]
  },
  {
   "cell_type": "code",
   "execution_count": 22,
   "metadata": {},
   "outputs": [
    {
     "data": {
      "text/plain": [
       "{'n_neighbors': 5, 'weights': 'distance'}"
      ]
     },
     "execution_count": 22,
     "metadata": {},
     "output_type": "execute_result"
    }
   ],
   "source": [
    "search.best_params_"
   ]
  },
  {
   "cell_type": "code",
   "execution_count": 23,
   "metadata": {},
   "outputs": [
    {
     "data": {
      "text/plain": [
       "0.9732142857142857"
      ]
     },
     "execution_count": 23,
     "metadata": {},
     "output_type": "execute_result"
    }
   ],
   "source": [
    "search.best_score_"
   ]
  },
  {
   "cell_type": "code",
   "execution_count": null,
   "metadata": {},
   "outputs": [],
   "source": []
  },
  {
   "cell_type": "code",
   "execution_count": null,
   "metadata": {},
   "outputs": [],
   "source": []
  }
 ],
 "metadata": {
  "kernelspec": {
   "display_name": "Python 3",
   "language": "python",
   "name": "python3"
  },
  "language_info": {
   "codemirror_mode": {
    "name": "ipython",
    "version": 3
   },
   "file_extension": ".py",
   "mimetype": "text/x-python",
   "name": "python",
   "nbconvert_exporter": "python",
   "pygments_lexer": "ipython3",
   "version": "3.5.6"
  }
 },
 "nbformat": 4,
 "nbformat_minor": 2
}
