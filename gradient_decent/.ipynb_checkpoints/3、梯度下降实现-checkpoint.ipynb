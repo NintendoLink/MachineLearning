{
 "cells": [
  {
   "cell_type": "code",
   "execution_count": 1,
   "metadata": {},
   "outputs": [],
   "source": [
    "import numpy as np\n",
    "import matplotlib.pyplot as plt"
   ]
  },
  {
   "cell_type": "code",
   "execution_count": 2,
   "metadata": {},
   "outputs": [],
   "source": [
    "x = np.random.normal(size=100)\n",
    "y = 3 * x + 4 + np.random.normal(size= len(x))"
   ]
  },
  {
   "cell_type": "code",
   "execution_count": 4,
   "metadata": {},
   "outputs": [
    {
     "data": {
      "text/plain": [
       "<matplotlib.collections.PathCollection at 0x63d4fa70b8>"
      ]
     },
     "execution_count": 4,
     "metadata": {},
     "output_type": "execute_result"
    },
    {
     "data": {
      "image/png": "[encoded data removed]",
      "text/plain": [
       "<Figure size 432x288 with 1 Axes>"
      ]
     },
     "metadata": {},
     "output_type": "display_data"
    }
   ],
   "source": [
    "plt.scatter(x,y)"
   ]
  },
  {
   "cell_type": "code",
   "execution_count": 5,
   "metadata": {},
   "outputs": [],
   "source": []
  },
  {
   "cell_type": "code",
   "execution_count": null,
   "metadata": {},
   "outputs": [],
   "source": [
    "def sgd(X_b,y,init_theta,eta = 0.01,iter_num = 1e4,eplison = 1e-8):\n",
    "    \n",
    "    def J(theta,X_b,y):\n",
    "        return np.sum((X_b.dot(theta) - y) ** 2)\n",
    "    \n",
    "    def dJ(theta,X_b,y):\n",
    "        res = np.empty(len(theta))\n",
    "        res[0] = np.sum(X_b.dot(theta) - y)\n",
    "\n",
    "        for i in range(1,len(theta)):\n",
    "            res[i] =( X_b.dot(theta) - y).dot(X[:i])\n",
    "        return res\n",
    "    \n",
    "    \n",
    "    theta = init_theta\n",
    "    iter = 0\n",
    "    while(iter < iter_num):\n",
    "        gradient = dJ(theta,X_b,y)\n",
    "        last_theta = theta\n",
    "        theta = theta - gradient * eta\n",
    "        \n",
    "        if np.abs(J(theta，X_b,y) - J(last_theta,X_b,y)) < eplison:\n",
    "            break\n",
    "            \n",
    "        iter += 1\n",
    "        \n",
    "    return theta\n",
    "        "
   ]
  },
  {
   "cell_type": "code",
   "execution_count": null,
   "metadata": {},
   "outputs": [],
   "source": []
  }
 ],
 "metadata": {
  "kernelspec": {
   "display_name": "Python 3",
   "language": "python",
   "name": "python3"
  },
  "language_info": {
   "codemirror_mode": {
    "name": "ipython",
    "version": 3
   },
   "file_extension": ".py",
   "mimetype": "text/x-python",
   "name": "python",
   "nbconvert_exporter": "python",
   "pygments_lexer": "ipython3",
   "version": "3.5.6"
  }
 },
 "nbformat": 4,
 "nbformat_minor": 2
}
