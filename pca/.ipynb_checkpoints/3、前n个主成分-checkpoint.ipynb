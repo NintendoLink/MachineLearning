{
 "cells": [
  {
   "cell_type": "code",
   "execution_count": 1,
   "metadata": {},
   "outputs": [],
   "source": [
    "import numpy as np\n",
    "import matplotlib.pyplot as plt"
   ]
  },
  {
   "cell_type": "code",
   "execution_count": 8,
   "metadata": {},
   "outputs": [
    {
     "data": {
      "text/plain": [
       "<matplotlib.collections.PathCollection at 0x2443ae51d0>"
      ]
     },
     "execution_count": 8,
     "metadata": {},
     "output_type": "execute_result"
    },
    {
     "data": {
      "image/png": "[encoded data removed]",
      "text/plain": [
       "<Figure size 432x288 with 1 Axes>"
      ]
     },
     "metadata": {},
     "output_type": "display_data"
    }
   ],
   "source": [
    "X = np.empty((100,2))\n",
    "X[:,0] = np.random.uniform(0,100,size=(100)) \n",
    "X[:,1] = 0.75 * X[:,0] + 3 + np.random.normal(0,10,size=len(X[:,1]))\n",
    "plt.scatter(X[:,0],X[:,1])"
   ]
  },
  {
   "cell_type": "code",
   "execution_count": 10,
   "metadata": {},
   "outputs": [],
   "source": [
    "def  demean(X):\n",
    "    return X - np.mean(X,axis=0)\n",
    "def direction(w):\n",
    "    return w / np.linalg.norm(w)\n",
    "def J(w,X):\n",
    "    return np.sum(X.dot(w) ** 2) / len(X)\n",
    "def dJ(w,X):\n",
    "    return X.T.dot(X.dot(w)) * 2 / len(X)"
   ]
  },
  {
   "cell_type": "code",
   "execution_count": 24,
   "metadata": {},
   "outputs": [],
   "source": [
    "def gradient_ascent(init_w,X,iter_num = 1e4,eta = 0.01,eplison = 1e-8):\n",
    "    \n",
    "    w = direction(init_w)\n",
    "    iter = 0\n",
    "    while(iter <iter_num):\n",
    "        last_w = w\n",
    "        gradient = dJ(w,X)\n",
    "        w = w + eta * gradient\n",
    "        w = direction(w)\n",
    "        if (np.abs(J(w,X) - J(last_w,X))) < eplison:\n",
    "            break\n",
    "        iter += 1\n",
    "    return w\n",
    "\n",
    "init_w = np.random.normal(size=2)\n",
    "init_w\n",
    "w =  gradient_ascent(init_w= init_w,X = X)"
   ]
  },
  {
   "cell_type": "code",
   "execution_count": 25,
   "metadata": {},
   "outputs": [
    {
     "data": {
      "text/plain": [
       "array([0.77177744, 0.63589274])"
      ]
     },
     "execution_count": 25,
     "metadata": {},
     "output_type": "execute_result"
    }
   ],
   "source": [
    "w "
   ]
  },
  {
   "cell_type": "code",
   "execution_count": 28,
   "metadata": {},
   "outputs": [],
   "source": [
    "X2 = np.empty(X.shape)"
   ]
  },
  {
   "cell_type": "code",
   "execution_count": 51,
   "metadata": {},
   "outputs": [],
   "source": [
    "for i in range(len(X)):\n",
    "    X2[i] = X[i] - X[i].dot(w) * w\n",
    "    \n",
    "X2 = X - X.dot(w).reshape(-1,1)* w"
   ]
  },
  {
   "cell_type": "code",
   "execution_count": 32,
   "metadata": {},
   "outputs": [
    {
     "data": {
      "text/plain": [
       "<matplotlib.collections.PathCollection at 0x2443ba54a8>"
      ]
     },
     "execution_count": 32,
     "metadata": {},
     "output_type": "execute_result"
    },
    {
     "data": {
      "image/png": "[encoded data removed]",
      "text/plain": [
       "<Figure size 432x288 with 1 Axes>"
      ]
     },
     "metadata": {},
     "output_type": "display_data"
    }
   ],
   "source": []
  },
  {
   "cell_type": "code",
   "execution_count": 54,
   "metadata": {},
   "outputs": [
    {
     "data": {
      "text/plain": [
       "<matplotlib.collections.PathCollection at 0x2443ceba20>"
      ]
     },
     "execution_count": 54,
     "metadata": {},
     "output_type": "execute_result"
    },
    {
     "data": {
      "image/png": "[encoded data removed]",
      "text/plain": [
       "<Figure size 432x288 with 1 Axes>"
      ]
     },
     "metadata": {},
     "output_type": "display_data"
    }
   ],
   "source": [
    "def n_component(n,init_w,X):\n",
    "    component = []\n",
    "    X_history = []\n",
    "    last_w = init_w\n",
    "    last_X = X\n",
    "    for i in range(n):\n",
    "        w = gradient_ascent(last_w,last_X)\n",
    "        X =  np.empty(last_X.shape)\n",
    "#         for i in range(len(last_X)):\n",
    "#             X[i] = last_X[i] -  last_X[i].dot(w) * w\n",
    "        X = last_X - last_X.dot(w).reshape(-1,1) * w\n",
    "        w = last_w\n",
    "        last_X = X\n",
    "        \n",
    "        component.append(w)\n",
    "        X_history.append(X)\n",
    "    return component,X_history\n",
    "\n",
    "component,X_history = n_component(2,init_w,X)\n",
    "\n",
    "X_1 = X_history[0]\n",
    "plt.scatter(X_1[:,0],X_1[:,1])"
   ]
  },
  {
   "cell_type": "code",
   "execution_count": null,
   "metadata": {},
   "outputs": [],
   "source": []
  }
 ],
 "metadata": {
  "kernelspec": {
   "display_name": "Python 3",
   "language": "python",
   "name": "python3"
  },
  "language_info": {
   "codemirror_mode": {
    "name": "ipython",
    "version": 3
   },
   "file_extension": ".py",
   "mimetype": "text/x-python",
   "name": "python",
   "nbconvert_exporter": "python",
   "pygments_lexer": "ipython3",
   "version": "3.5.6"
  }
 },
 "nbformat": 4,
 "nbformat_minor": 2
}
